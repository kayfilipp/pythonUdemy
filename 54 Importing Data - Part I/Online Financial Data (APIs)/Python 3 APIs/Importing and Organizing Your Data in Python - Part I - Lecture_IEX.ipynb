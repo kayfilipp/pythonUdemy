{
 "cells": [
  {
   "cell_type": "code",
   "execution_count": 1,
   "metadata": {},
   "outputs": [],
   "source": [
    "import numpy as np\n",
    "import pandas as pd"
   ]
  },
  {
   "cell_type": "code",
   "execution_count": 2,
   "metadata": {},
   "outputs": [],
   "source": [
    "ser = pd.Series(np.random.random(5), name = \"Column 01\")"
   ]
  },
  {
   "cell_type": "code",
   "execution_count": 3,
   "metadata": {},
   "outputs": [
    {
     "data": {
      "text/plain": [
       "0    0.649860\n",
       "1    0.640622\n",
       "2    0.022700\n",
       "3    0.875074\n",
       "4    0.393805\n",
       "Name: Column 01, dtype: float64"
      ]
     },
     "execution_count": 3,
     "metadata": {},
     "output_type": "execute_result"
    }
   ],
   "source": [
    "ser"
   ]
  },
  {
   "cell_type": "code",
   "execution_count": 4,
   "metadata": {},
   "outputs": [
    {
     "data": {
      "text/plain": [
       "0.022699937874711584"
      ]
     },
     "execution_count": 4,
     "metadata": {},
     "output_type": "execute_result"
    }
   ],
   "source": [
    "ser[2]"
   ]
  },
  {
   "cell_type": "code",
   "execution_count": 10,
   "metadata": {},
   "outputs": [],
   "source": [
    "from pandas_datareader import data as wb"
   ]
  },
  {
   "cell_type": "code",
   "execution_count": 13,
   "metadata": {},
   "outputs": [],
   "source": [
    "PG = wb.DataReader('PG', data_source='yahoo', start='2015-1-1')"
   ]
  },
  {
   "cell_type": "code",
   "execution_count": 14,
   "metadata": {},
   "outputs": [
    {
     "data": {
      "text/html": [
       "<div>\n",
       "<style scoped>\n",
       "    .dataframe tbody tr th:only-of-type {\n",
       "        vertical-align: middle;\n",
       "    }\n",
       "\n",
       "    .dataframe tbody tr th {\n",
       "        vertical-align: top;\n",
       "    }\n",
       "\n",
       "    .dataframe thead th {\n",
       "        text-align: right;\n",
       "    }\n",
       "</style>\n",
       "<table border=\"1\" class=\"dataframe\">\n",
       "  <thead>\n",
       "    <tr style=\"text-align: right;\">\n",
       "      <th></th>\n",
       "      <th>High</th>\n",
       "      <th>Low</th>\n",
       "      <th>Open</th>\n",
       "      <th>Close</th>\n",
       "      <th>Volume</th>\n",
       "      <th>Adj Close</th>\n",
       "    </tr>\n",
       "    <tr>\n",
       "      <th>Date</th>\n",
       "      <th></th>\n",
       "      <th></th>\n",
       "      <th></th>\n",
       "      <th></th>\n",
       "      <th></th>\n",
       "      <th></th>\n",
       "    </tr>\n",
       "  </thead>\n",
       "  <tbody>\n",
       "    <tr>\n",
       "      <th>2015-01-02</th>\n",
       "      <td>91.000000</td>\n",
       "      <td>89.919998</td>\n",
       "      <td>90.839996</td>\n",
       "      <td>90.440002</td>\n",
       "      <td>7251400.0</td>\n",
       "      <td>76.279633</td>\n",
       "    </tr>\n",
       "    <tr>\n",
       "      <th>2015-01-05</th>\n",
       "      <td>91.000000</td>\n",
       "      <td>89.849998</td>\n",
       "      <td>90.230003</td>\n",
       "      <td>90.010002</td>\n",
       "      <td>8626100.0</td>\n",
       "      <td>75.916954</td>\n",
       "    </tr>\n",
       "    <tr>\n",
       "      <th>2015-01-06</th>\n",
       "      <td>90.559998</td>\n",
       "      <td>89.260002</td>\n",
       "      <td>90.309998</td>\n",
       "      <td>89.599998</td>\n",
       "      <td>7791200.0</td>\n",
       "      <td>75.571159</td>\n",
       "    </tr>\n",
       "    <tr>\n",
       "      <th>2015-01-07</th>\n",
       "      <td>90.370003</td>\n",
       "      <td>89.559998</td>\n",
       "      <td>89.940002</td>\n",
       "      <td>90.070000</td>\n",
       "      <td>5986600.0</td>\n",
       "      <td>75.967552</td>\n",
       "    </tr>\n",
       "    <tr>\n",
       "      <th>2015-01-08</th>\n",
       "      <td>91.230003</td>\n",
       "      <td>90.129997</td>\n",
       "      <td>90.480003</td>\n",
       "      <td>91.099998</td>\n",
       "      <td>6823300.0</td>\n",
       "      <td>76.836281</td>\n",
       "    </tr>\n",
       "    <tr>\n",
       "      <th>...</th>\n",
       "      <td>...</td>\n",
       "      <td>...</td>\n",
       "      <td>...</td>\n",
       "      <td>...</td>\n",
       "      <td>...</td>\n",
       "      <td>...</td>\n",
       "    </tr>\n",
       "    <tr>\n",
       "      <th>2020-05-11</th>\n",
       "      <td>116.010002</td>\n",
       "      <td>114.919998</td>\n",
       "      <td>115.750000</td>\n",
       "      <td>115.309998</td>\n",
       "      <td>6947500.0</td>\n",
       "      <td>115.309998</td>\n",
       "    </tr>\n",
       "    <tr>\n",
       "      <th>2020-05-12</th>\n",
       "      <td>115.900002</td>\n",
       "      <td>114.139999</td>\n",
       "      <td>115.199997</td>\n",
       "      <td>114.550003</td>\n",
       "      <td>6734400.0</td>\n",
       "      <td>114.550003</td>\n",
       "    </tr>\n",
       "    <tr>\n",
       "      <th>2020-05-13</th>\n",
       "      <td>115.349998</td>\n",
       "      <td>113.730003</td>\n",
       "      <td>114.279999</td>\n",
       "      <td>113.919998</td>\n",
       "      <td>9312600.0</td>\n",
       "      <td>113.919998</td>\n",
       "    </tr>\n",
       "    <tr>\n",
       "      <th>2020-05-14</th>\n",
       "      <td>114.449997</td>\n",
       "      <td>111.250000</td>\n",
       "      <td>113.540001</td>\n",
       "      <td>113.809998</td>\n",
       "      <td>9310000.0</td>\n",
       "      <td>113.809998</td>\n",
       "    </tr>\n",
       "    <tr>\n",
       "      <th>2020-05-15</th>\n",
       "      <td>114.790001</td>\n",
       "      <td>112.050003</td>\n",
       "      <td>113.930000</td>\n",
       "      <td>114.610001</td>\n",
       "      <td>10694800.0</td>\n",
       "      <td>114.610001</td>\n",
       "    </tr>\n",
       "  </tbody>\n",
       "</table>\n",
       "<p>1352 rows × 6 columns</p>\n",
       "</div>"
      ],
      "text/plain": [
       "                  High         Low        Open       Close      Volume  \\\n",
       "Date                                                                     \n",
       "2015-01-02   91.000000   89.919998   90.839996   90.440002   7251400.0   \n",
       "2015-01-05   91.000000   89.849998   90.230003   90.010002   8626100.0   \n",
       "2015-01-06   90.559998   89.260002   90.309998   89.599998   7791200.0   \n",
       "2015-01-07   90.370003   89.559998   89.940002   90.070000   5986600.0   \n",
       "2015-01-08   91.230003   90.129997   90.480003   91.099998   6823300.0   \n",
       "...                ...         ...         ...         ...         ...   \n",
       "2020-05-11  116.010002  114.919998  115.750000  115.309998   6947500.0   \n",
       "2020-05-12  115.900002  114.139999  115.199997  114.550003   6734400.0   \n",
       "2020-05-13  115.349998  113.730003  114.279999  113.919998   9312600.0   \n",
       "2020-05-14  114.449997  111.250000  113.540001  113.809998   9310000.0   \n",
       "2020-05-15  114.790001  112.050003  113.930000  114.610001  10694800.0   \n",
       "\n",
       "             Adj Close  \n",
       "Date                    \n",
       "2015-01-02   76.279633  \n",
       "2015-01-05   75.916954  \n",
       "2015-01-06   75.571159  \n",
       "2015-01-07   75.967552  \n",
       "2015-01-08   76.836281  \n",
       "...                ...  \n",
       "2020-05-11  115.309998  \n",
       "2020-05-12  114.550003  \n",
       "2020-05-13  113.919998  \n",
       "2020-05-14  113.809998  \n",
       "2020-05-15  114.610001  \n",
       "\n",
       "[1352 rows x 6 columns]"
      ]
     },
     "execution_count": 14,
     "metadata": {},
     "output_type": "execute_result"
    }
   ],
   "source": [
    "PG"
   ]
  },
  {
   "cell_type": "code",
   "execution_count": null,
   "metadata": {},
   "outputs": [],
   "source": []
  }
 ],
 "metadata": {
  "kernelspec": {
   "display_name": "Python 3",
   "language": "python",
   "name": "python3"
  },
  "language_info": {
   "codemirror_mode": {
    "name": "ipython",
    "version": 3
   },
   "file_extension": ".py",
   "mimetype": "text/x-python",
   "name": "python",
   "nbconvert_exporter": "python",
   "pygments_lexer": "ipython3",
   "version": "3.7.6"
  }
 },
 "nbformat": 4,
 "nbformat_minor": 2
}
